{
 "cells": [
  {
   "cell_type": "code",
   "execution_count": 1,
   "id": "e5648991-9421-4f79-82eb-11cd81a358c2",
   "metadata": {},
   "outputs": [],
   "source": [
    "import sqlite3\n",
    "\n",
    "conn = sqlite3.connect('./quant_db.sqlite', isolation_level= None)\n",
    "c = conn.cursor()"
   ]
  },
  {
   "cell_type": "code",
   "execution_count": 2,
   "id": "977e15da-954e-4b49-b688-31f65116bca4",
   "metadata": {},
   "outputs": [
    {
     "data": {
      "text/plain": [
       "<sqlite3.Cursor at 0x40060349c0>"
      ]
     },
     "execution_count": 2,
     "metadata": {},
     "output_type": "execute_result"
    }
   ],
   "source": [
    "query = \"\"\"\n",
    "CREATE TABLE if NOT EXISTS kor_value\n",
    "(\n",
    "    종목코드 varchar(6),\n",
    "    기준일 date,\n",
    "    지표 varchar(3),\n",
    "    값 double,\n",
    "    primary key (종목코드, 기준일, 지표)\n",
    ");\n",
    "\"\"\"\n",
    "c.execute(query)"
   ]
  },
  {
   "cell_type": "code",
   "execution_count": 3,
   "id": "0390cc8d-2c98-40fb-aca6-0e523373ca1a",
   "metadata": {},
   "outputs": [],
   "source": [
    "import pandas as pd\n",
    "import numpy as np\n",
    "\n",
    "# 분기 재무제표 불러오기\n",
    "kor_fs = pd.read_sql(\"\"\"\n",
    "select * from kor_fs\n",
    "where 공시구분 = 'q'\n",
    "and 계정 in ('당기순이익', '자본', '영업활동으로인한현금흐름', '매출액');\n",
    "\"\"\", con=conn)\n",
    "\n",
    "# 티커 리스트 불러오기\n",
    "ticker_list = pd.read_sql(\"\"\"\n",
    "select * from kor_ticker\n",
    "where 기준일 = (select max(기준일) from kor_ticker) \n",
    "and 종목구분 = '보통주';\n",
    "\"\"\", con=conn)"
   ]
  },
  {
   "cell_type": "code",
   "execution_count": 4,
   "id": "cc9c209a-db69-4333-89b6-db911f37f147",
   "metadata": {},
   "outputs": [],
   "source": [
    "# TTM 구하기\n",
    "kor_fs = kor_fs.sort_values(['종목코드', '계정', '기준일'])\n",
    "kor_fs['ttm'] = kor_fs.groupby(['종목코드', '계정'], as_index=False)['값'].rolling(\n",
    "    window=4, min_periods=4).sum()['값']\n",
    "\n",
    "# 자본은 평균 구하기\n",
    "kor_fs['ttm'] = np.where(kor_fs['계정'] == '자본', kor_fs['ttm'] / 4,\n",
    "                         kor_fs['ttm'])\n",
    "kor_fs = kor_fs.groupby(['계정', '종목코드']).tail(1)"
   ]
  },
  {
   "cell_type": "code",
   "execution_count": 5,
   "id": "127aee20-fd3a-440b-9be8-0b9f96e46609",
   "metadata": {},
   "outputs": [
    {
     "data": {
      "text/html": [
       "<div>\n",
       "<style scoped>\n",
       "    .dataframe tbody tr th:only-of-type {\n",
       "        vertical-align: middle;\n",
       "    }\n",
       "\n",
       "    .dataframe tbody tr th {\n",
       "        vertical-align: top;\n",
       "    }\n",
       "\n",
       "    .dataframe thead th {\n",
       "        text-align: right;\n",
       "    }\n",
       "</style>\n",
       "<table border=\"1\" class=\"dataframe\">\n",
       "  <thead>\n",
       "    <tr style=\"text-align: right;\">\n",
       "      <th></th>\n",
       "      <th>종목코드</th>\n",
       "      <th>기준일</th>\n",
       "      <th>지표</th>\n",
       "      <th>값</th>\n",
       "    </tr>\n",
       "  </thead>\n",
       "  <tbody>\n",
       "    <tr>\n",
       "      <th>0</th>\n",
       "      <td>000020</td>\n",
       "      <td>2023-09-19</td>\n",
       "      <td>PER</td>\n",
       "      <td>9.4948</td>\n",
       "    </tr>\n",
       "    <tr>\n",
       "      <th>1</th>\n",
       "      <td>000020</td>\n",
       "      <td>2023-09-19</td>\n",
       "      <td>PSR</td>\n",
       "      <td>0.7917</td>\n",
       "    </tr>\n",
       "    <tr>\n",
       "      <th>2</th>\n",
       "      <td>000020</td>\n",
       "      <td>2023-09-19</td>\n",
       "      <td>PCR</td>\n",
       "      <td>9.4315</td>\n",
       "    </tr>\n",
       "    <tr>\n",
       "      <th>3</th>\n",
       "      <td>000020</td>\n",
       "      <td>2023-09-19</td>\n",
       "      <td>PBR</td>\n",
       "      <td>0.7386</td>\n",
       "    </tr>\n",
       "  </tbody>\n",
       "</table>\n",
       "</div>"
      ],
      "text/plain": [
       "     종목코드         기준일   지표       값\n",
       "0  000020  2023-09-19  PER  9.4948\n",
       "1  000020  2023-09-19  PSR  0.7917\n",
       "2  000020  2023-09-19  PCR  9.4315\n",
       "3  000020  2023-09-19  PBR  0.7386"
      ]
     },
     "execution_count": 5,
     "metadata": {},
     "output_type": "execute_result"
    }
   ],
   "source": [
    "kor_fs_merge = kor_fs[['계정', '종목코드',\n",
    "                       'ttm']].merge(ticker_list[['종목코드', '시가총액', '기준일']],\n",
    "                                     on='종목코드')\n",
    "kor_fs_merge['시가총액'] = kor_fs_merge['시가총액'] / 100000000\n",
    "\n",
    "kor_fs_merge['value'] = kor_fs_merge['시가총액'] / kor_fs_merge['ttm']\n",
    "kor_fs_merge['value'] = kor_fs_merge['value'].round(4)\n",
    "kor_fs_merge['지표'] = np.where(\n",
    "    kor_fs_merge['계정'] == '매출액', 'PSR',\n",
    "    np.where(\n",
    "        kor_fs_merge['계정'] == '영업활동으로인한현금흐름', 'PCR',\n",
    "        np.where(kor_fs_merge['계정'] == '자본', 'PBR',\n",
    "                 np.where(kor_fs_merge['계정'] == '당기순이익', 'PER', None))))\n",
    "\n",
    "kor_fs_merge.rename(columns={'value': '값'}, inplace=True)\n",
    "kor_fs_merge = kor_fs_merge[['종목코드', '기준일', '지표', '값']]\n",
    "kor_fs_merge = kor_fs_merge.replace([np.inf, -np.inf, np.nan], None)\n",
    "\n",
    "kor_fs_merge.head(4)"
   ]
  },
  {
   "cell_type": "code",
   "execution_count": 6,
   "id": "fdaf7327-eae7-4f7e-a9b9-33084a7fa47a",
   "metadata": {},
   "outputs": [
    {
     "data": {
      "text/plain": [
       "<sqlite3.Cursor at 0x40060349c0>"
      ]
     },
     "execution_count": 6,
     "metadata": {},
     "output_type": "execute_result"
    }
   ],
   "source": [
    "query = \"\"\"\n",
    "    INSERT or IGNORE INTO kor_value (종목코드, 기준일, 지표, 값)\n",
    "    values (?,?,?,?);\n",
    "\"\"\"\n",
    "\n",
    "args_fs = kor_fs_merge.values.tolist()\n",
    "c.executemany(query, args_fs)"
   ]
  },
  {
   "cell_type": "code",
   "execution_count": 7,
   "id": "6678172e-9c8b-49a2-a2c6-f1666afddb6c",
   "metadata": {},
   "outputs": [
    {
     "data": {
      "text/html": [
       "<div>\n",
       "<style scoped>\n",
       "    .dataframe tbody tr th:only-of-type {\n",
       "        vertical-align: middle;\n",
       "    }\n",
       "\n",
       "    .dataframe tbody tr th {\n",
       "        vertical-align: top;\n",
       "    }\n",
       "\n",
       "    .dataframe thead th {\n",
       "        text-align: right;\n",
       "    }\n",
       "</style>\n",
       "<table border=\"1\" class=\"dataframe\">\n",
       "  <thead>\n",
       "    <tr style=\"text-align: right;\">\n",
       "      <th></th>\n",
       "      <th>종목코드</th>\n",
       "      <th>기준일</th>\n",
       "      <th>지표</th>\n",
       "      <th>값</th>\n",
       "    </tr>\n",
       "  </thead>\n",
       "  <tbody>\n",
       "    <tr>\n",
       "      <th>0</th>\n",
       "      <td>095570</td>\n",
       "      <td>2023-09-19</td>\n",
       "      <td>DY</td>\n",
       "      <td>0.0605</td>\n",
       "    </tr>\n",
       "    <tr>\n",
       "      <th>1</th>\n",
       "      <td>006840</td>\n",
       "      <td>2023-09-19</td>\n",
       "      <td>DY</td>\n",
       "      <td>0.0107</td>\n",
       "    </tr>\n",
       "    <tr>\n",
       "      <th>2</th>\n",
       "      <td>027410</td>\n",
       "      <td>2023-09-19</td>\n",
       "      <td>DY</td>\n",
       "      <td>0.0303</td>\n",
       "    </tr>\n",
       "    <tr>\n",
       "      <th>3</th>\n",
       "      <td>282330</td>\n",
       "      <td>2023-09-19</td>\n",
       "      <td>DY</td>\n",
       "      <td>0.0275</td>\n",
       "    </tr>\n",
       "    <tr>\n",
       "      <th>4</th>\n",
       "      <td>138930</td>\n",
       "      <td>2023-09-19</td>\n",
       "      <td>DY</td>\n",
       "      <td>0.0867</td>\n",
       "    </tr>\n",
       "  </tbody>\n",
       "</table>\n",
       "</div>"
      ],
      "text/plain": [
       "     종목코드         기준일  지표       값\n",
       "0  095570  2023-09-19  DY  0.0605\n",
       "1  006840  2023-09-19  DY  0.0107\n",
       "2  027410  2023-09-19  DY  0.0303\n",
       "3  282330  2023-09-19  DY  0.0275\n",
       "4  138930  2023-09-19  DY  0.0867"
      ]
     },
     "execution_count": 7,
     "metadata": {},
     "output_type": "execute_result"
    }
   ],
   "source": [
    "ticker_list['값'] = ticker_list['주당배당금'] / ticker_list['종가']\n",
    "ticker_list['값'] = ticker_list['값'].round(4)\n",
    "ticker_list['지표'] = 'DY'\n",
    "dy_list = ticker_list[['종목코드', '기준일', '지표', '값']]\n",
    "dy_list = dy_list.replace([np.inf, -np.inf, np.nan], None)\n",
    "dy_list = dy_list[dy_list['값'] != 0]\n",
    "\n",
    "dy_list.head()"
   ]
  },
  {
   "cell_type": "code",
   "execution_count": 8,
   "id": "b86e3628-72f9-433a-9fd2-df2bef44e43a",
   "metadata": {},
   "outputs": [
    {
     "data": {
      "text/plain": [
       "<sqlite3.Cursor at 0x40060349c0>"
      ]
     },
     "execution_count": 8,
     "metadata": {},
     "output_type": "execute_result"
    }
   ],
   "source": [
    "args_dy = dy_list.values.tolist()\n",
    "c.executemany(query, args_dy)"
   ]
  },
  {
   "cell_type": "code",
   "execution_count": null,
   "id": "050839f8-f793-4aff-8fad-82f3305d02c2",
   "metadata": {},
   "outputs": [],
   "source": []
  }
 ],
 "metadata": {
  "kernelspec": {
   "display_name": "Python 3 (ipykernel)",
   "language": "python",
   "name": "python3"
  },
  "language_info": {
   "codemirror_mode": {
    "name": "ipython",
    "version": 3
   },
   "file_extension": ".py",
   "mimetype": "text/x-python",
   "name": "python",
   "nbconvert_exporter": "python",
   "pygments_lexer": "ipython3",
   "version": "3.11.4"
  }
 },
 "nbformat": 4,
 "nbformat_minor": 5
}
